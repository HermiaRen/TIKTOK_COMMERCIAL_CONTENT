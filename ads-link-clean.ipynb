{
 "cells": [
  {
   "cell_type": "code",
   "execution_count": null,
   "metadata": {},
   "outputs": [],
   "source": [
    "import pandas as pd\n",
    "import re\n",
    "\n",
    "df = pd.read_csv(\"Resources/merged_data.csv\")\n",
    "df.head()"
   ]
  },
  {
   "cell_type": "code",
   "execution_count": null,
   "metadata": {},
   "outputs": [],
   "source": [
    "# Define a function to extract URLs using regex\n",
    "def extract_url(text):\n",
    "    pattern = r\"'url': '([^']+)'\"\n",
    "    match = re.search(pattern, text)\n",
    "    if match:\n",
    "        return match.group(1)\n",
    "    else:\n",
    "        return None\n",
    "\n",
    "df['cleaned_video_url'] = df['ad.videos'].apply(extract_url)\n",
    "\n",
    "print(df['cleaned_video_url'])"
   ]
  },
  {
   "cell_type": "code",
   "execution_count": null,
   "metadata": {},
   "outputs": [],
   "source": [
    "selected_columns = ['ad.id', 'cleaned_video_url']\n",
    "ads_link_df = df[selected_columns]\n",
    "\n",
    "# Export the DataFrame to a CSV file\n",
    "ads_link_df.to_csv('ads_link.csv', index=False)"
   ]
  }
 ],
 "metadata": {
  "language_info": {
   "name": "python"
  }
 },
 "nbformat": 4,
 "nbformat_minor": 2
}
